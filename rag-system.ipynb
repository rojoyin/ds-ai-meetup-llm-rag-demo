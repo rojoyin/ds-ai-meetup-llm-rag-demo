{
 "cells": [
  {
   "metadata": {},
   "cell_type": "markdown",
   "source": "# RAG System",
   "id": "ac66544111c17d17"
  },
  {
   "metadata": {},
   "cell_type": "markdown",
   "source": "## Dependencies",
   "id": "e9713f7ce2ee4e3b"
  },
  {
   "metadata": {
    "collapsed": true,
    "ExecuteTime": {
     "end_time": "2025-02-25T22:44:11.980706Z",
     "start_time": "2025-02-25T22:43:50.404342Z"
    }
   },
   "cell_type": "code",
   "source": [
    "%pip install --upgrade pip --quiet\n",
    "%pip install pandas==2.2.3 --quiet\n",
    "%pip install openai==1.62.0 --quiet\n",
    "%pip install langchain==0.3.18 --quiet\n",
    "%pip install faiss-cpu==1.10.0 --quiet\n",
    "%pip install ipywidgets==8.1.5 --quiet\n",
    "%pip install langchain-community==0.3.17 --quiet\n",
    "%pip uninstall langchain-community==0.3.17 -y --quiet\n",
    "%pip uninstall tiktoken==0.8.0 -y --quiet\n",
    "%pip install langchain-openai==0.3.6 --quiet\n",
    "%pip install python-dotenv==1.0.1 --quiet"
   ],
   "id": "initial_id",
   "outputs": [
    {
     "name": "stdout",
     "output_type": "stream",
     "text": [
      "Note: you may need to restart the kernel to use updated packages.\n",
      "Note: you may need to restart the kernel to use updated packages.\n",
      "Note: you may need to restart the kernel to use updated packages.\n",
      "Note: you may need to restart the kernel to use updated packages.\n",
      "Note: you may need to restart the kernel to use updated packages.\n",
      "Note: you may need to restart the kernel to use updated packages.\n",
      "Note: you may need to restart the kernel to use updated packages.\n",
      "Note: you may need to restart the kernel to use updated packages.\n",
      "Note: you may need to restart the kernel to use updated packages.\n",
      "Note: you may need to restart the kernel to use updated packages.\n",
      "Note: you may need to restart the kernel to use updated packages.\n"
     ]
    }
   ],
   "execution_count": 168
  },
  {
   "metadata": {
    "ExecuteTime": {
     "end_time": "2025-02-25T22:44:12.027914Z",
     "start_time": "2025-02-25T22:44:12.011104Z"
    }
   },
   "cell_type": "code",
   "source": [
    "import pandas as pd\n",
    "import os\n",
    "from dotenv import load_dotenv\n",
    "from langchain_openai import OpenAIEmbeddings, ChatOpenAI\n",
    "from langchain.vectorstores import FAISS\n",
    "from langchain.text_splitter import RecursiveCharacterTextSplitter\n",
    "from langchain.chains import RetrievalQA\n",
    "\n",
    "load_dotenv()"
   ],
   "id": "30fff46ed627a4d8",
   "outputs": [
    {
     "data": {
      "text/plain": [
       "True"
      ]
     },
     "execution_count": 169,
     "metadata": {},
     "output_type": "execute_result"
    }
   ],
   "execution_count": 169
  },
  {
   "metadata": {},
   "cell_type": "markdown",
   "source": "## Loading the dataset into a DataFrame",
   "id": "cb8d106974d16bee"
  },
  {
   "metadata": {
    "ExecuteTime": {
     "end_time": "2025-02-25T22:44:12.075622Z",
     "start_time": "2025-02-25T22:44:12.072443Z"
    }
   },
   "cell_type": "code",
   "source": [
    "def load_dataset(file_path):\n",
    "    \"\"\"Loads the dataset from a CSV file.\"\"\"\n",
    "    df = pd.read_csv(file_path)\n",
    "    return df"
   ],
   "id": "c154f5aca0724ce5",
   "outputs": [],
   "execution_count": 170
  },
  {
   "metadata": {},
   "cell_type": "markdown",
   "source": [
    "## Data preprocess\n",
    "1. Drop records where Title or Plot are missing (NaN)\n",
    "2. Limits the fields we want to use to Title and Plot, merging them into a single field called Content. One entry is created for each movie"
   ],
   "id": "5ae6255ae1a14821"
  },
  {
   "metadata": {
    "ExecuteTime": {
     "end_time": "2025-02-25T22:44:12.141997Z",
     "start_time": "2025-02-25T22:44:12.138182Z"
    }
   },
   "cell_type": "code",
   "source": [
    "def preprocess_data(df):\n",
    "    \"\"\"Prepares the dataset by extracting titles and plots.\"\"\"\n",
    "    df = df[['Title', 'Plot']].dropna()\n",
    "    df[\"Content\"] = df.apply(lambda row: f\"Title: {row['Title']}\\nPlot: {row['Plot']}\", axis=1)\n",
    "    return df"
   ],
   "id": "68fa30b28a984910",
   "outputs": [],
   "execution_count": 171
  },
  {
   "metadata": {},
   "cell_type": "markdown",
   "source": [
    "## Text chunking\n",
    "Splits long texts into chunks of fixed size. The overlap will be used to ensure that some text is repeated between consecutive chunks, this will maintain context"
   ],
   "id": "9d5bcfa50a949378"
  },
  {
   "metadata": {
    "ExecuteTime": {
     "end_time": "2025-02-25T22:44:12.198271Z",
     "start_time": "2025-02-25T22:44:12.195041Z"
    }
   },
   "cell_type": "code",
   "source": [
    "def split_text_into_chunks(texts, chunk_size=500, chunk_overlap=50):\n",
    "    \"\"\"Splits the text into smaller chunks for better processing.\"\"\"\n",
    "    text_splitter = RecursiveCharacterTextSplitter(\n",
    "        chunk_size=chunk_size,\n",
    "        chunk_overlap=chunk_overlap,\n",
    "        length_function=len\n",
    "    )\n",
    "    return text_splitter.create_documents(texts)"
   ],
   "id": "3287f197220a076b",
   "outputs": [],
   "execution_count": 172
  },
  {
   "metadata": {},
   "cell_type": "markdown",
   "source": [
    "## Helper function\n",
    "Checks if the data is already stored in embeddings, this will help us to not reprocess the data unnecessarily"
   ],
   "id": "95d029ea996dbb24"
  },
  {
   "metadata": {
    "ExecuteTime": {
     "end_time": "2025-02-25T22:44:12.242936Z",
     "start_time": "2025-02-25T22:44:12.238994Z"
    }
   },
   "cell_type": "code",
   "source": [
    "def index_exists(index_folder):\n",
    "    \"\"\"Checks if FAISS index folder exists and is not empty.\"\"\"\n",
    "    return os.path.exists(index_folder) and os.listdir(index_folder)"
   ],
   "id": "aca7821ccd007056",
   "outputs": [],
   "execution_count": 173
  },
  {
   "metadata": {},
   "cell_type": "markdown",
   "source": [
    "## Helper function to store embeddings in local folder\n",
    "Store embeddings into a folder specified by `index_folder`"
   ],
   "id": "e37e1cbb10e66538"
  },
  {
   "metadata": {
    "ExecuteTime": {
     "end_time": "2025-02-25T22:44:12.299094Z",
     "start_time": "2025-02-25T22:44:12.296231Z"
    }
   },
   "cell_type": "code",
   "source": [
    "def create_and_save_faiss_index(documents, embeddings, index_folder):\n",
    "    \"\"\"Creates FAISS index and saves it locally.\"\"\"\n",
    "    vector_db = FAISS.from_documents(documents, embeddings)\n",
    "    vector_db.save_local(index_folder)\n",
    "    print(f\"FAISS index saved to {index_folder}\")"
   ],
   "id": "d81930e14dcdc1e3",
   "outputs": [],
   "execution_count": 174
  },
  {
   "metadata": {},
   "cell_type": "markdown",
   "source": [
    "## Helper function to load embeddings from local folder\n",
    "Load embeddings from a folder specified by `index_folder`\n",
    "\n",
    "Why do we need to set the `allow_dangerous_deserialization` to True?\n",
    "This has to do with the folder's content"
   ],
   "id": "9a52f3eb860bcf4e"
  },
  {
   "metadata": {
    "ExecuteTime": {
     "end_time": "2025-02-25T22:44:12.356481Z",
     "start_time": "2025-02-25T22:44:12.344955Z"
    }
   },
   "cell_type": "code",
   "source": [
    "def load_faiss_index(index_folder, embeddings):\n",
    "    \"\"\"Loads FAISS index from local folder.\"\"\"\n",
    "    vector_db = FAISS.load_local(index_folder, embeddings, allow_dangerous_deserialization=True)\n",
    "    print(f\"FAISS index loaded from {index_folder}\")\n",
    "    return vector_db"
   ],
   "id": "7e9cd9d034751563",
   "outputs": [],
   "execution_count": 175
  },
  {
   "metadata": {},
   "cell_type": "markdown",
   "source": [
    "## Create the LLM model with OpenAI\n",
    "What does temperature=0 mean? Low temperature implies factual responses for to reduce hallucinations"
   ],
   "id": "fc52e432843e785c"
  },
  {
   "metadata": {
    "ExecuteTime": {
     "end_time": "2025-02-25T22:44:12.419340Z",
     "start_time": "2025-02-25T22:44:12.408565Z"
    }
   },
   "cell_type": "code",
   "source": [
    "def create_llm_model(model_name=\"gpt-3.5-turbo-0125\", temperature=0):\n",
    "    \"\"\"Initializes the OpenAI language model for text generation.\"\"\"\n",
    "    return ChatOpenAI(\n",
    "        model_name=model_name,\n",
    "        temperature=temperature\n",
    "    )"
   ],
   "id": "f61034c3c4c6ca54",
   "outputs": [],
   "execution_count": 176
  },
  {
   "metadata": {},
   "cell_type": "markdown",
   "source": [
    "## Create a RAG pipeline\n",
    "Converts the embeddings DB to a retriever\n",
    "\n",
    "A retriever is the data source that contains the custom knowledge we loaded in a form that could be used to compute similarity"
   ],
   "id": "d8c43b5f6e1d74d9"
  },
  {
   "metadata": {
    "ExecuteTime": {
     "end_time": "2025-02-25T22:44:12.470709Z",
     "start_time": "2025-02-25T22:44:12.464961Z"
    }
   },
   "cell_type": "code",
   "source": [
    "def create_rag_pipeline(llm, vector_db):\n",
    "    \"\"\"Creates a Retrieval-Augmented Generation (RAG) pipeline.\"\"\"\n",
    "    retriever = vector_db.as_retriever()\n",
    "    return RetrievalQA.from_chain_type(llm=llm, retriever=retriever, chain_type=\"stuff\")"
   ],
   "id": "82aa4333f0ba282d",
   "outputs": [],
   "execution_count": 177
  },
  {
   "metadata": {},
   "cell_type": "markdown",
   "source": "## Function to ask movie-related questions",
   "id": "aaa978a24a9219fb"
  },
  {
   "metadata": {
    "ExecuteTime": {
     "end_time": "2025-02-25T22:44:12.527722Z",
     "start_time": "2025-02-25T22:44:12.517396Z"
    }
   },
   "cell_type": "code",
   "source": [
    "def ask_movie_question(qa_chain, question):\n",
    "    \"\"\"Queries the RAG pipeline with a movie-related question and a custom system prompt.\"\"\"\n",
    "    from langchain.prompts.chat import ChatPromptTemplate\n",
    "\n",
    "    SYSTEM_PROMPT_TEMPLATE = \"\"\"\n",
    "    You are a movie expert with deep knowledge of film plots and cinematic history.\n",
    "    Provide detailed and accurate answers based on the movie plot data.\n",
    "    Always include the movie title in your response.\n",
    "    If you don't have actual information about the movie, reply: This movie is not in the dataset provided\n",
    "    \"\"\"\n",
    "\n",
    "    prompt_template = ChatPromptTemplate.from_messages(\n",
    "        [\n",
    "            (\"system\", SYSTEM_PROMPT_TEMPLATE.strip()),\n",
    "            (\"human\", \"Respond to the question: {question}\")\n",
    "        ]\n",
    "    )\n",
    "\n",
    "    full_prompt = prompt_template.format_messages(question=question)\n",
    "\n",
    "    response = qa_chain.invoke({\"query\": question, \"input_messages\": full_prompt})\n",
    "    return response"
   ],
   "id": "1655489070b2744f",
   "outputs": [],
   "execution_count": 178
  },
  {
   "metadata": {},
   "cell_type": "markdown",
   "source": "## Connecting all together",
   "id": "ec3235640a93eaa3"
  },
  {
   "metadata": {
    "ExecuteTime": {
     "end_time": "2025-02-25T22:44:12.695058Z",
     "start_time": "2025-02-25T22:44:12.580178Z"
    }
   },
   "cell_type": "code",
   "source": [
    "if __name__ == \"__main__\":\n",
    "    INDEX_FOLDER = \"faiss_movie_embeddings\"\n",
    "    embeddings = OpenAIEmbeddings(openai_api_key=os.getenv(\"OPENAI_API_KEY\"))\n",
    "    if index_exists(INDEX_FOLDER):\n",
    "        vector_db = load_faiss_index(INDEX_FOLDER, embeddings)\n",
    "    else:\n",
    "        dataset_path = \"wiki_movie_plots_reduced.csv\"\n",
    "        df = load_dataset(dataset_path)\n",
    "        df = preprocess_data(df)\n",
    "        documents = split_text_into_chunks(df[\"Content\"].tolist())\n",
    "        create_and_save_faiss_index(documents, embeddings, INDEX_FOLDER)\n",
    "        vector_db = load_faiss_index(INDEX_FOLDER, embeddings)\n",
    "\n",
    "    # Create the LLM model and the RAG pipeline\n",
    "    llm = create_llm_model(model_name=\"gpt-3.5-turbo-0125\")\n",
    "    qa_chain = create_rag_pipeline(llm, vector_db)"
   ],
   "id": "fdfb6496650cfdd1",
   "outputs": [
    {
     "name": "stdout",
     "output_type": "stream",
     "text": [
      "FAISS index loaded from faiss_movie_embeddings\n"
     ]
    }
   ],
   "execution_count": 179
  },
  {
   "metadata": {},
   "cell_type": "markdown",
   "source": "## Query 1. Movie that is not part of the dataset",
   "id": "21971064c3fd5b1f"
  },
  {
   "metadata": {
    "ExecuteTime": {
     "end_time": "2025-02-25T22:44:14.295576Z",
     "start_time": "2025-02-25T22:44:12.708620Z"
    }
   },
   "cell_type": "code",
   "source": [
    "    question = \"What is the plot of the movie Inception?\"\n",
    "    answer = ask_movie_question(qa_chain, question)\n",
    "    print(answer)"
   ],
   "id": "b174dcda12cd7569",
   "outputs": [
    {
     "name": "stdout",
     "output_type": "stream",
     "text": [
      "{'query': 'What is the plot of the movie Inception?', 'input_messages': [SystemMessage(content=\"You are a movie expert with deep knowledge of film plots and cinematic history.\\n    Provide detailed and accurate answers based on the movie plot data.\\n    Always include the movie title in your response.\\n    If you don't have actual information about the movie, reply: This movie is not in the dataset provided\", additional_kwargs={}, response_metadata={}), HumanMessage(content='Respond to the question: What is the plot of the movie Inception?', additional_kwargs={}, response_metadata={})], 'result': 'I\\'m sorry, but the plot you provided is not from the movie \"Inception.\" Would you like a summary of the actual plot of \"Inception\"?'}\n"
     ]
    }
   ],
   "execution_count": 180
  },
  {
   "metadata": {},
   "cell_type": "markdown",
   "source": "## Query 2. Movie that is part of the dataset",
   "id": "a18dad0437e326b7"
  },
  {
   "metadata": {
    "ExecuteTime": {
     "end_time": "2025-02-25T22:44:15.841038Z",
     "start_time": "2025-02-25T22:44:14.308965Z"
    }
   },
   "cell_type": "code",
   "source": [
    "    # Example query\n",
    "    question = \"What is the plot of the movie Underworld?\"\n",
    "    answer = ask_movie_question(qa_chain, question)\n",
    "    print(answer)"
   ],
   "id": "8cb5a18d8b7248fb",
   "outputs": [
    {
     "name": "stdout",
     "output_type": "stream",
     "text": [
      "{'query': 'What is the plot of the movie Underworld?', 'input_messages': [SystemMessage(content=\"You are a movie expert with deep knowledge of film plots and cinematic history.\\n    Provide detailed and accurate answers based on the movie plot data.\\n    Always include the movie title in your response.\\n    If you don't have actual information about the movie, reply: This movie is not in the dataset provided\", additional_kwargs={}, response_metadata={}), HumanMessage(content='Respond to the question: What is the plot of the movie Underworld?', additional_kwargs={}, response_metadata={})], 'result': 'The plot of \"Underworld: Blood Wars\" revolves around the remaining vampire covens being threatened by the Lycans. Both species are searching for Selene for different reasons, with the vampires seeking justice and the Lycans wanting to use her to locate Eve, whose blood can create vampire-werewolf hybrids. The movie involves battles, betrayals, and Selene gaining new abilities to fight against the enemies.'}\n"
     ]
    }
   ],
   "execution_count": 181
  },
  {
   "metadata": {},
   "cell_type": "markdown",
   "source": "## Query 3. Create a response, provided some context",
   "id": "da744a2d15bfd9a3"
  },
  {
   "metadata": {
    "ExecuteTime": {
     "end_time": "2025-02-25T22:44:17.255850Z",
     "start_time": "2025-02-25T22:44:15.878393Z"
    }
   },
   "cell_type": "code",
   "source": [
    "    # Example query\n",
    "    question = \"What movie can you suggest me if I like vampire movies?\"\n",
    "    answer = ask_movie_question(qa_chain, question)\n",
    "    print(answer)"
   ],
   "id": "aace86156cf3c836",
   "outputs": [
    {
     "name": "stdout",
     "output_type": "stream",
     "text": [
      "{'query': 'What movie can you suggest me if I like vampire movies?', 'input_messages': [SystemMessage(content=\"You are a movie expert with deep knowledge of film plots and cinematic history.\\n    Provide detailed and accurate answers based on the movie plot data.\\n    Always include the movie title in your response.\\n    If you don't have actual information about the movie, reply: This movie is not in the dataset provided\", additional_kwargs={}, response_metadata={}), HumanMessage(content='Respond to the question: What movie can you suggest me if I like vampire movies?', additional_kwargs={}, response_metadata={})], 'result': 'If you enjoy vampire movies, you might like \"Underworld: Blood Wars\" based on the conflict between vampires and Lycans. It\\'s a part of the Underworld series known for its vampire-werewolf lore and action-packed storyline.'}\n"
     ]
    }
   ],
   "execution_count": 182
  },
  {
   "metadata": {},
   "cell_type": "markdown",
   "source": "## Query 4. Create a response, provided some context (2)",
   "id": "dc2b6eddd357ea06"
  },
  {
   "metadata": {
    "ExecuteTime": {
     "end_time": "2025-02-25T22:44:18.207375Z",
     "start_time": "2025-02-25T22:44:17.269629Z"
    }
   },
   "cell_type": "code",
   "source": [
    "    # Example query\n",
    "    question = \"I hate romantic movies, what do I have to avoid?\"\n",
    "    answer = ask_movie_question(qa_chain, question)\n",
    "    print(answer)"
   ],
   "id": "eb515fc80239c1e8",
   "outputs": [
    {
     "name": "stdout",
     "output_type": "stream",
     "text": [
      "{'query': 'I hate romantic movies, what do I have to avoid?', 'input_messages': [SystemMessage(content=\"You are a movie expert with deep knowledge of film plots and cinematic history.\\n    Provide detailed and accurate answers based on the movie plot data.\\n    Always include the movie title in your response.\\n    If you don't have actual information about the movie, reply: This movie is not in the dataset provided\", additional_kwargs={}, response_metadata={}), HumanMessage(content='Respond to the question: I hate romantic movies, what do I have to avoid?', additional_kwargs={}, response_metadata={})], 'result': 'You may want to avoid \"Solo\" as it is a romantic drama movie.'}\n"
     ]
    }
   ],
   "execution_count": 183
  }
 ],
 "metadata": {
  "kernelspec": {
   "display_name": "Python 3",
   "language": "python",
   "name": "python3"
  },
  "language_info": {
   "codemirror_mode": {
    "name": "ipython",
    "version": 2
   },
   "file_extension": ".py",
   "mimetype": "text/x-python",
   "name": "python",
   "nbconvert_exporter": "python",
   "pygments_lexer": "ipython2",
   "version": "2.7.6"
  }
 },
 "nbformat": 4,
 "nbformat_minor": 5
}
